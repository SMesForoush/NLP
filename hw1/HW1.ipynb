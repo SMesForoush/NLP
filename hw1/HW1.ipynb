{
 "cells": [
  {
   "cell_type": "markdown",
   "metadata": {},
   "source": [
    "<div dir=\"rtl\" align=\"center\">\n",
    "    <h1>\n",
    "        تمرین اول درس پردازش زبان‌های طبیعی\n",
    "    </h1>\n",
    "    <h3>\n",
    "        گردآورندگان:<br/>\n",
    "        ساحل مس‌فروش، سروش تابش، درنا دهقانی\n",
    "    </h3>\n",
    "    \n",
    "</div>\n",
    "\n",
    "<br/>\n",
    "<br/>\n",
    "\n",
    "\n",
    "<div dir=\"rtl\">\n",
    "    ما در این تمرین ترک \"استخراج پرسش و پاسخ\" را انتخاب کردیم. در این تمرین قصد داریم از یک جمله فارسی سوالاتی با توجه به روابط علت و معلولی، نقش کلمات در جملات، ارتباط بین واژگان و ... استخراج کنیم. هر سوال به شکل یک دیکشنری پایتون نمایش داده می‌شود که key سوال و value پاسخ به سوال است.\n",
    "</div>"
   ]
  },
  {
   "cell_type": "markdown",
   "metadata": {},
   "source": [
    "<div dir=\"rtl\">\n",
    "    <h2> 1. تمیز کردن ورودی </h2>\n",
    "    در این بخش، گام‌های ابتدایی برای مراحل آتی را برمی‌داریم. هر جمله که به عنوان ورودی ما داده می‌شود، باید تا حد مناسبی تمیز و ساختاریافته شود تا به عنوان ورودی بخش‌های بعد معتبر باشد. کارهایی مانند نرمال‌سازی و ... در این بخش انجام می‌گردد. از توابع تعریف شده در کتابخانه hazm استفاده می‌کنیم.\n",
    "</div>"
   ]
  },
  {
   "cell_type": "code",
   "execution_count": 1,
   "metadata": {},
   "outputs": [],
   "source": [
    "import re\n",
    "from collections import Counter\n",
    "import hazm\n",
    "from hazm import *"
   ]
  },
  {
   "cell_type": "code",
   "execution_count": 2,
   "metadata": {},
   "outputs": [
    {
     "name": "stdout",
     "output_type": "stream",
     "text": [
      "\n"
     ]
    }
   ],
   "source": [
    "def sentence_clean(sentence: str):\n",
    "    normalizer = Normalizer()\n",
    "    return normalizer.normalize(sentence)\n",
    "\n",
    "sentence = ''\n",
    "print(sentence_clean(sentence))"
   ]
  },
  {
   "cell_type": "markdown",
   "metadata": {},
   "source": [
    "<div dir=\"rtl\">\n",
    "    <h2> 2. استخراج ساختار سوالات </h2>\n",
    "    در این مرحله، به یافتن کلمات کلیدی در جملاتی که امکان استخراج سوالات از آنها وجود دارد پرداختیم. در یک Google Sheet لیست این کلمات، انواع نحوه به کارگیری آنها در جملات، مثال‌هایی از هر یک و هم‌چنین ساختار سوال و جواب و مثال از آنها را مشخص کردیم. \n",
    "    هم‌چنین مثال‌هایی از جملات را به عنوان داده‌ی تست یافتیم و سوال‌هایی از آنها استخراج کردیم.\n",
    "    <a href=\"https://docs.google.com/spreadsheets/d/1qsCfRVr5RgXYW2qEVbrP3dq7-l3wNngjPAsXrHN89DQ/edit#gid=0\" target=\"_top\">فهرست کلمات کلیدی و جملات تست</a><br/>\n",
    "    سپس در تابع <code>extract_cause_effect</code> از جمله‌ای که به عنوان ورودی داده می‌شود، با توجه به ساختار جمله که ورودی دیگر این تابع و از انواع پرسش و پاسخ است، رابطه‌ی علت و معلولی که ممکن است در جمله باشد، استخراج می‌گردد.<br>\n",
    "    در دیکشنری <code>all_regexes</code> نوع و ساختار جملاتی که قابلیت طرح سوال از آنها وجود دارد توسط regex طراحی شده است. هم‌چنین ساختار پرسش و پاسخ آنها نیز وجود دارد.<br>\n",
    "    اگر ساختار regex در جمله موجود بود، بسته به اینکه کدام بخش جمله در سوال و کدام بخش آن در جواب استفاده شود، سوال و جواب از جمله ساخته شده و در دیکشنری خروجی تابع قرار می‌گیرد.\n",
    "</div>"
   ]
  },
  {
   "cell_type": "code",
   "execution_count": 21,
   "metadata": {},
   "outputs": [],
   "source": [
    "all_regexes = {\"چرایی\": {\"regex\": r\"\"\"(?P<effect>.*)[،|؛|] (?P<reason> زیرا|چون|چون\\sکه|به\\sدلیل\\sاینکه) (?P<cause>.*)\"\"\", \"question\": \"چرا {effect} ؟\", \"answer\": \"زیرا {cause}\"}, \n",
    "               \"سببی\": {\"regex\": r\"(?P<effect>.*) (?P<reason> دلیل|مسبب) (?P<cause>.*)\", \"question\": \"{effect} باعث چه می شود؟ \", \"answer\": \"باعث {cause}\"}\n",
    "               }\n",
    "\n",
    "def extract_cause_effects(text: str, key: str):\n",
    "    \"\"\"\n",
    "    extracting cause and effect parts from text based on key regex. creating a Q&A based on key question format and answer format\n",
    "    Parameters\n",
    "    ---------\n",
    "    text: str\n",
    "        sentence query used to extract question and answers.\n",
    "    key: str\n",
    "        key should be one of all_regexes.keys(). sentence format used to extract Q&A\n",
    "  \n",
    "  \n",
    "    Returns\n",
    "    -------\n",
    "    result: dict\n",
    "        includes question and answer sentences.\n",
    "    \"\"\"\n",
    "\n",
    "\n",
    "    key_information = all_regexes.get(key, None)\n",
    "    if not key_information:\n",
    "        print(\"you should specify current key information in all_regexes dict\")\n",
    "        return\n",
    "    regex = key_information.get(\"regex\")\n",
    "    first_reg = re.compile(regex)\n",
    "    x = re.search(first_reg, text)\n",
    "    if x is not None:\n",
    "        cause = x.group(\"cause\")\n",
    "        effect = x.group(\"effect\")\n",
    "        if not cause:\n",
    "        # text is not in the format of first part of regex. checking for second part\n",
    "            cause = x.group(\"cause2\")\n",
    "            effect = x.group(\"effect2\")\n",
    "            if not cause or not effect:\n",
    "                # cause and effects are empty! this shouldn't happen!!!\n",
    "                print(\"bad input\")\n",
    "                return None\n",
    "    else:\n",
    "        # regex didn't found the structure. \n",
    "        return None\n",
    "    q_format = key_information.get(\"question\")\n",
    "    a_format = key_information.get(\"answer\")  \n",
    "    result = {\"question\": sentence_clean(q_format.format(effect=effect)), \"answer\": sentence_clean(a_format.format(cause=cause))}\n",
    "    return result"
   ]
  },
  {
   "cell_type": "markdown",
   "metadata": {},
   "source": [
    "<div dir=\"rtl\">\n",
    "    در تابع <code>extract_question</code> ابتدا روی تمامی ساختارهای موجود که امکان طرح سوال از آنها وجود دارد، پیمایشی انجام می‌گیرد. در هر پیمایش، هر ساختار از <code>all_regexes</code> در جمله‌ی ورودی توسط تابع <code>extract_cause_effects</code> بررسی می‌گردد و در صورت داشتن خروجی معتبر، پرسش و پاسخ مربوطه‌ی آن نمایش داده می‌شود.\n",
    "</div>"
   ]
  },
  {
   "cell_type": "code",
   "execution_count": 22,
   "metadata": {},
   "outputs": [
    {
     "name": "stdout",
     "output_type": "stream",
     "text": [
      "{'question': 'چرا رنگین کمونه؟', 'answer': 'زیرا بارون اومده.'}\n",
      "None\n"
     ]
    }
   ],
   "source": [
    "def extract_questions(text: str):\n",
    "    \"\"\"\n",
    "    checking all different sentence formats on text. if one is applied ignore others and return\n",
    "    Parameters\n",
    "    ----------\n",
    "    text: str\n",
    "        input sentence\n",
    "    \n",
    "    Returns\n",
    "    ------\n",
    "    result: dict\n",
    "      question and answer sentences.\n",
    "    \"\"\"\n",
    "    for key, value in all_regexes.items():\n",
    "        result = extract_cause_effects(text, key)\n",
    "        if result:\n",
    "            return result\n",
    "    \n",
    "sentence = 'رنگین کمونه؛ چون بارون اومده.'\n",
    "print(extract_questions(sentence_clean(sentence)))\n",
    "\n",
    "sentence = 'چون بارون اومده، رنگین کمونه.'\n",
    "print(extract_questions(sentence_clean(sentence)))"
   ]
  }
 ],
 "metadata": {
  "kernelspec": {
   "display_name": "Python 3 (ipykernel)",
   "language": "python",
   "name": "python3"
  },
  "language_info": {
   "codemirror_mode": {
    "name": "ipython",
    "version": 3
   },
   "file_extension": ".py",
   "mimetype": "text/x-python",
   "name": "python",
   "nbconvert_exporter": "python",
   "pygments_lexer": "ipython3",
   "version": "3.8.3"
  }
 },
 "nbformat": 4,
 "nbformat_minor": 4
}
