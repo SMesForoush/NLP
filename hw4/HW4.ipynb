{
 "cells": [
  {
   "cell_type": "markdown",
   "metadata": {},
   "source": [
    "تمرین چهارم"
   ]
  },
  {
   "cell_type": "code",
   "execution_count": 7,
   "metadata": {},
   "outputs": [],
   "source": [
    "import json\n",
    "import tqdm\n",
    "import torch\n",
    "import re"
   ]
  },
  {
   "cell_type": "code",
   "execution_count": 4,
   "metadata": {},
   "outputs": [],
   "source": [
    "def read_data(path, state=None):\n",
    "    data = json.load(open(path))\n",
    "    if state is not None:\n",
    "        data = data.get(state)\n",
    "    return data"
   ]
  },
  {
   "cell_type": "code",
   "execution_count": 5,
   "metadata": {},
   "outputs": [],
   "source": [
    "path = \"./dataset_annotated_title_fluent.json\"\n",
    "# train_data = read_data(path, \"train\")"
   ]
  },
  {
   "cell_type": "code",
   "execution_count": 10,
   "metadata": {},
   "outputs": [],
   "source": [
    "def extract_title(text):\n",
    "    regex = re.compile(\"\\\\n.*\\\\n\")\n",
    "    title = re.split(regex, text)[0]\n",
    "    return title\n"
   ]
  },
  {
   "cell_type": "code",
   "execution_count": 16,
   "metadata": {},
   "outputs": [],
   "source": [
    "def rewrite_data(path):\n",
    "    data = read_data(path)\n",
    "    for key, value in data.items():\n",
    "        with open(f\"{key}.json\", \"w\") as save_file:\n",
    "            new_result = list()\n",
    "            for data_item in value:\n",
    "                data_item[\"text\"] = extract_title(data_item.get(\"text\"))\n",
    "                new_result.append(data_item)\n",
    "            final_res = {key: new_result}\n",
    "            # print(final_res)\n",
    "            json.dump(final_res, save_file)\n",
    "            del new_result\n",
    "                "
   ]
  },
  {
   "cell_type": "code",
   "execution_count": 17,
   "metadata": {},
   "outputs": [],
   "source": [
    "rewrite_data(path)"
   ]
  },
  {
   "cell_type": "code",
   "execution_count": null,
   "metadata": {},
   "outputs": [],
   "source": []
  }
 ],
 "metadata": {
  "kernelspec": {
   "display_name": "Python 3.8.10 ('.venv': venv)",
   "language": "python",
   "name": "python3"
  },
  "language_info": {
   "codemirror_mode": {
    "name": "ipython",
    "version": 3
   },
   "file_extension": ".py",
   "mimetype": "text/x-python",
   "name": "python",
   "nbconvert_exporter": "python",
   "pygments_lexer": "ipython3",
   "version": "3.8.10"
  },
  "orig_nbformat": 4,
  "vscode": {
   "interpreter": {
    "hash": "b04b67f68733743fa4bd20e2b208bd3fb17523e8f420adf77b7736387b23b0f8"
   }
  }
 },
 "nbformat": 4,
 "nbformat_minor": 2
}
