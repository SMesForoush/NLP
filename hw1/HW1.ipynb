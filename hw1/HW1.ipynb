{
 "cells": [
  {
   "cell_type": "markdown",
   "metadata": {},
   "source": [
    "<div dir=\"rtl\" align=\"center\">\n",
    "    <h1>\n",
    "        تمرین اول درس پردازش زبان‌های طبیعی\n",
    "    </h1>\n",
    "    <h3>\n",
    "        گردآورندگان:<br/>\n",
    "        ساحل مس‌فروش، سروش تابش، درنا دهقانی\n",
    "    </h3>\n",
    "    \n",
    "</div>\n",
    "\n",
    "<br/>\n",
    "<br/>\n",
    "\n",
    "\n",
    "<div dir=\"rtl\">\n",
    "    ما در این تمرین ترک \"استخراج پرسش و پاسخ\" را انتخاب کردیم. در این تمرین قصد داریم از یک جمله فارسی سوالاتی با توجه به روابط علت و معلولی، نقش کلمات در جملات، ارتباط بین واژگان و ... استخراج کنیم. هر سوال به شکل یک دیکشنری پایتون نمایش داده می‌شود که key سوال و value پاسخ به سوال است.\n",
    "</div>"
   ]
  },
  {
   "cell_type": "markdown",
   "metadata": {},
   "source": [
    "<div dir=\"rtl\">\n",
    "    <h2> 1. تمیز کردن ورودی </h2>\n",
    "    در این بخش، گام‌های ابتدایی برای مراحل آتی را برمی‌داریم. هر جمله که به عنوان ورودی ما داده می‌شود، باید تا حد مناسبی تمیز و ساختاریافته شود تا به عنوان ورودی بخش‌های بعد معتبر باشد. کارهایی مانند نرمال‌سازی و ... در این بخش انجام می‌گردد. از توابع تعریف شده در کتابخانه hazm استفاده می‌کنیم.\n",
    "</div>"
   ]
  },
  {
   "cell_type": "code",
   "execution_count": 41,
   "metadata": {},
   "outputs": [],
   "source": [
    "import re\n",
    "from collections import Counter\n",
    "import hazm\n",
    "import json\n",
    "import os\n",
    "from itertools import chain\n",
    "import collections\n",
    "from hazm import *"
   ]
  },
  {
   "cell_type": "code",
   "execution_count": 53,
   "metadata": {},
   "outputs": [
    {
     "name": "stdout",
     "output_type": "stream",
     "text": [
      "\n"
     ]
    }
   ],
   "source": [
    "def sentence_clean(sentence: str):\n",
    "    normalizer = Normalizer()\n",
    "    return normalizer.normalize(sentence)\n",
    "\n",
    "sentence = ''\n",
    "print(sentence_clean(sentence))"
   ]
  },
  {
   "cell_type": "markdown",
   "metadata": {},
   "source": [
    "<div dir=\"rtl\">\n",
    "    <h2> 2. استخراج ساختار سوالات </h2>\n",
    "    جملاتی که امکان استخراج سوالات از آنها ممکن است، دو نوعند. نوع اول دارای برخی کلمات کلیدی (مانند زیرا، چون و ...) هستند. نوع دوم جملاتی هستند که فاقد اینگونه کلماتند. مثلاً امروز هوا بارانیست: امروز هوا چگونه است؟ بارانی.<br>\n",
    "    <h4> 2.1. استخراج سوال از جملات با کلمات کلیدی </h4>\n",
    "    در این مرحله، به یافتن کلمات کلیدی در جملاتی که امکان استخراج سوالات از آنها وجود دارد پرداختیم. در یک Google Sheet لیست این کلمات، انواع نحوه به کارگیری آنها در جملات، مثال‌هایی از هر یک و هم‌چنین ساختار سوال و جواب و مثال از آنها را مشخص کردیم. \n",
    "    هم‌چنین مثال‌هایی از جملات را به عنوان داده‌ی تست یافتیم و سوال‌هایی از آنها استخراج کردیم.\n",
    "    <a href=\"https://docs.google.com/spreadsheets/d/1qsCfRVr5RgXYW2qEVbrP3dq7-l3wNngjPAsXrHN89DQ/edit#gid=0\" target=\"_top\">فهرست کلمات کلیدی و جملات تست</a><br/>\n",
    "    سپس در تابع <code>extract_cause_effect</code> از جمله‌ای که به عنوان ورودی داده می‌شود، با توجه به ساختار جمله که ورودی دیگر این تابع و از انواع پرسش و پاسخ است، رابطه‌ی علت و معلولی که ممکن است در جمله باشد، استخراج می‌گردد.<br>\n",
    "    در دیکشنری <code>all_regexes</code> نوع و ساختار جملاتی که قابلیت طرح سوال از آنها وجود دارد توسط regex طراحی شده است. هم‌چنین ساختار پرسش و پاسخ آنها نیز وجود دارد.<br>\n",
    "    اگر ساختار regex در جمله موجود بود، بسته به اینکه کدام بخش جمله در سوال و کدام بخش آن در جواب استفاده شود، سوال و جواب از جمله ساخته شده و در دیکشنری خروجی تابع قرار می‌گیرد.\n",
    "</div>"
   ]
  },
  {
   "cell_type": "code",
   "execution_count": 39,
   "metadata": {},
   "outputs": [],
   "source": [
    "all_regexes = {\n",
    "  \"چرایی\": {\"regex\": r\"\"\"(?P<effect>.*)[،|؛] (?P<reason> زیرا|چون|به‌دلیل|بدلیل|چون\\sکه|به\\sدلیل\\sاینکه) (?P<cause>.*)|چون(?P<cause2>.*)(،|\\s،|؛|\\s؛)(?P<effect2>.*)\"\"\", \"question\": \"چرا {effect} ؟\", \"answer\": \"زیرا {cause}\"}, \n",
    "  \"سببی\": {\"regex\": r\"(?P<effect>.*) (?P<reason> دلیل|مسبب) (?P<cause>.*) است.|(?P<reason2>مسبب|دلیل) (?P<effect2>.*)[،|؛] (?P<cause2>) است.\", \"question\": \"{effect} باعث چه می شود؟ \", \"answer\": \"باعث {cause}\"},\n",
    "  \"موجب\": {\"regex\":r\"(?P<effect>.*) موجب (?P<cause>.*) می‌شود.*|(?P<effect2>.*) موجبات (?P<cause2>.*) فراهم می‌کند\", \"question\": \"چه موجب {effect} می‌شود؟\", \"answer\": \"{cause}\"},\n",
    "  \"ترین\": {\"regex\":r\"(?P<tarin>.*ترین) (?P<cause>.*)[،|؛](?P<effect>.*) است\", \"question\": \"{tarin}ترین {cause} چیست؟\", \"answer\": \"{effect}\"},\n",
    "  \"خاطر\": {\"regex\": r\"\"\"(?P<reason> بخاطر|به خاطر) (?P<cause>.*)[،|] (?P<effect>.*)|(?P<effect2>.*) (?P<reason2> بخاطر|به خاطر) (?P<cause2>.*)\"\"\", \"question\": \"چرا {effect} ؟\", \"answer\": \"به خاطر {cause}\"},\n",
    "  \"منجر\": {\"regex\": r\"(?P<cause>.*)(?P<reason> منجر به)(?P<effect>.*)می شود.|(?P<reason2>مسبب|دلیل) (?P<effect2>.*)[،|؛] (?P<cause2>) است.\", \"question\": \"علت {effect} چیست؟\", \"answer\": \"{cause}\"},\n",
    "   \"هدف\": {\"regex\":r\"هدف (?P<effect>.*) (?P<reason>این\\sاست\\sکه|این\\sاست) (?P<cause>.*)\", \"question\": \"هدف {effect} چیست؟\", \"answer\": \"{cause}\"},\n",
    "  #  \"\": {\"regex\":r\"\", \"question\": \"\", \"answer\": \"\"},\n",
    "}\n",
    "\n",
    "def extract_cause_effects(text: str, key: str):\n",
    "    \"\"\"\n",
    "    extracting cause and effect parts from text based on key regex. creating a Q&A based on key question format and answer format\n",
    "    Parameters\n",
    "    ---------\n",
    "    text: str\n",
    "        sentence query used to extract question and answers.\n",
    "    key: str\n",
    "        key should be one of all_regexes.keys(). sentence format used to extract Q&A\n",
    "  \n",
    "  \n",
    "    Returns\n",
    "    -------\n",
    "    result: dict\n",
    "        includes question and answer sentences.\n",
    "    \"\"\"\n",
    "    \n",
    "    print(\"in func for: \", key)\n",
    "    key_information = all_regexes.get(key, None)\n",
    "    if not key_information:\n",
    "        print(\"you should specify current key information in all_regexes dict\")\n",
    "        return\n",
    "    regex = key_information.get(\"regex\")\n",
    "    first_reg = re.compile(regex)\n",
    "    x = re.search(first_reg, text)\n",
    "    if x is not None:\n",
    "        cause = x.group(\"cause\")\n",
    "        effect = x.group(\"effect\")\n",
    "        if not cause:\n",
    "        # text is not in the format of first part of regex. checking for second part\n",
    "            cause = x.group(\"cause2\")\n",
    "            effect = x.group(\"effect2\")\n",
    "            if not cause or not effect:\n",
    "                # cause and effects are empty! this shouldn't happen!!!\n",
    "                print(\"bad input\")\n",
    "                return None\n",
    "    else:\n",
    "        # regex didn't found the structure. \n",
    "        return None\n",
    "    q_format = key_information.get(\"question\")\n",
    "    a_format = key_information.get(\"answer\")  \n",
    "    result = {\"question\": sentence_clean(q_format.format(effect=effect)), \"answer\": sentence_clean(a_format.format(cause=cause))}\n",
    "    return result"
   ]
  },
  {
   "cell_type": "markdown",
   "metadata": {},
   "source": [
    "<div dir=\"rtl\">\n",
    "    در تابع <code>extract_question</code> ابتدا روی تمامی ساختارهای موجود که امکان طرح سوال از آنها وجود دارد، پیمایشی انجام می‌گیرد. در هر پیمایش، هر ساختار از <code>all_regexes</code> در جمله‌ی ورودی توسط تابع <code>extract_cause_effects</code> بررسی می‌گردد و در صورت داشتن خروجی معتبر، پرسش و پاسخ مربوطه‌ی آن نمایش داده می‌شود.\n",
    "</div>"
   ]
  },
  {
   "cell_type": "code",
   "execution_count": 40,
   "metadata": {},
   "outputs": [
    {
     "name": "stdout",
     "output_type": "stream",
     "text": [
      "{'question': 'چرا رنگین کمونه؟', 'answer': 'زیرا بارون اومده.'}\n",
      "{'question': 'چرا رنگین کمونه.؟', 'answer': 'زیرا بارون اومده'}\n"
     ]
    }
   ],
   "source": [
    "def extract_questions(text: str):\n",
    "    \"\"\"\n",
    "    checking all different sentence formats on text. if one is applied ignore others and return\n",
    "    Parameters\n",
    "    ----------\n",
    "    text: str\n",
    "        input sentence\n",
    "    \n",
    "    Returns\n",
    "    ------\n",
    "    result: dict\n",
    "      question and answer sentences.\n",
    "    \"\"\"\n",
    "    for key, value in all_regexes.items():\n",
    "        result = extract_cause_effects(text, key)\n",
    "        if result:\n",
    "            return result\n",
    "    \n",
    "sentence = 'رنگین کمونه؛ چون بارون اومده.'\n",
    "print(extract_questions(sentence_clean(sentence)))\n",
    "\n",
    "sentence = 'چون بارون اومده؛ رنگین کمونه.'\n",
    "print(extract_questions(sentence_clean(sentence)))"
   ]
  },
  {
   "cell_type": "markdown",
   "metadata": {},
   "source": [
    "<div dir='rtl'>\n",
    "    <h4>2.2. استخراج سوال از جملات بدون کلمات کلیدی</h4>\n",
    "    عملکرد کلی در این بخش بدین صورت است که امکان پرسش با حذف بخشی از جملع ممکن است و به جای بخش حذف شده، ضمیر پرسشی مربوطه جایگزین آن می‌گردد و سوال تشکیل می‌شود. در نتیجه بخش حذف شده از جمله، پاسخ به آن پرسش است.<br>\n",
    "    مثلاً در جمله‌ی \"او کتاب را برداشت.\"، با حذف \"او\" که اشاره به فرد دارد و جایگزین کردن \"چه کسی\" یک سوال ساخته می‌شود. هم‌چنین با حذف \"کتاب\" که اشاره به شیء دارد و جایگزین کردن \"چه چیزی\" می‌توان سوال دیگری ساخت.<br>\n",
    "    چالشی که در این بخش با آن مواجه بودیم، نحوه برخورد با گروه‌های اسمی بود که با حرف اضافه شروع می‌شدند. مثلاً در جمله‌ی \"او با آرامش راه رفت.\" تشخیص اینکه \"با\" حرف ربط یا حرف اضافه است برای ما مسئله بود. در چنین شرایطی تصمیم گرفتیم به کلمه‌ی پیش از این حرف نگاه کنیم و اگر فعل بود، آن را حرف ربط و در غیر اینصورت حرف اضافه در نظر بگیریم. در این صورت کلمه‌ی پرسشی مناسب برای گروه اسمی \"با آرامش\"، \"چگونه\" است.\n",
    "</div>"
   ]
  },
  {
   "cell_type": "markdown",
   "metadata": {},
   "source": [
    "<div dir=\"rtl\">\n",
    "    <h2> 3. صحت‌سنجی </h2>\n",
    "    ابتدا در فایل <code>question_generator.json</code> تعدادی مثال و خروجی‌های مورد توقع از آنها برای پرسش و پاسخ نوشته شد. سپس توسط کلاس <code>BaseTest</code> توابعی برای صحت‌سنجی عملکرد بخش‌های پیشین در یافتن و استخراج پرسش و پاسخ از جملات نوشته شد.\n",
    "</div>"
   ]
  },
  {
   "cell_type": "code",
   "execution_count": 51,
   "metadata": {},
   "outputs": [
    {
     "name": "stdout",
     "output_type": "stream",
     "text": [
      "Testing 1: \n",
      "correct answer:  {'question': 'ع†ط±ط§ ط´ظ…ط§ ط¨ط§ ط°ع©ط±ظ‡ط§غŒ ط²غŒط± ط¨ظ‡ ط®ظˆط¨غŒ ط¢ط´ظ†ط§غŒغŒط¯?', 'answer': 'ط²غŒط±ط§ ط¯ط± ظ‡ط± ظ†ظ…ط§ط² ط¢ظ†ظ‡ط§ ط±ط§ طھع©ط±ط§ط± ظ…غŒع©ظ†غŒط¯'}\n",
      "method answer:  None\n",
      "***********************************\n",
      "Testing 2: \n",
      "correct answer:  {'question': 'ع†ط±ط§ ط±ظ†ع¯غŒظ† ع©ظ…ظˆظ†ظ‡طں', 'answer': 'ع†ظˆظ† ط¨ط§ط±ظˆظ† ط§ظˆظ…ط¯ظ‡'}\n",
      "method answer:  None\n",
      "***********************************\n",
      "Testing 3: \n",
      "correct answer:  {'question': 'ظ…ط³ط¨ظ‘ط¨ طھطµط§ط¯ظپ ع†غŒط³طھطں', 'answer': 'ط¨غŒ ط§ط\\xadطھغŒط§ط·غŒ'}\n",
      "method answer:  None\n",
      "***********************************\n",
      "Testing 4: \n",
      "correct answer:  {'question': 'ط¯ظ„غŒظ„ ظ…ظˆظپظ‚غŒطھ ط§ظˆ ع†غŒط³طھطں', 'answer': 'ظ¾ط´طھع©ط§ط± ط²غŒط§ط¯'}\n",
      "method answer:  None\n",
      "***********************************\n",
      "Testing 5: \n",
      "correct answer:  {'question': 'ظ‡ط¯ظپ ظ…ط§ ط¯ط± ظ†ظ‡غŒ ط§ط² ظ…ظ†ع©ط± ع†غŒط³طھطں', 'answer': ' ع©ظ‡ ط§ظ†ط³ط§ظ† ط®ط·ط§ع©ط§ط± ط¨ظ‡ ط§ط´طھط¨ط§ظ‡ط§طھط´ ط§ط¯ط§ظ…ظ‡ ظ†ط¯ظ‡ط¯'}\n",
      "method answer:  None\n",
      "***********************************\n"
     ]
    }
   ],
   "source": [
    "class BaseTest:\n",
    "\n",
    "    def get_testcases(self, addr):\n",
    "        f = open(os.getcwd()+addr, 'r')\n",
    "        test_cases = json.load(f)\n",
    "        f.close()\n",
    "        return test_cases\n",
    "\n",
    "    def run_test(self, obj, addr):\n",
    "        errors = []\n",
    "        test_cases = self.get_testcases(addr)\n",
    "        for i in test_cases:\n",
    "            your_answer = obj.run(i['input'])\n",
    "            correct_answer = i['outputs']\n",
    "            d = {k: (your_answer[k], correct_answer[k]) for k in your_answer if k in correct_answer and your_answer[k] != correct_answer[k]}\n",
    "            for j in d:\n",
    "                errors.append('Input {0}: your answer is {1} correct answer is {2}'.format(i['id'], d[j][0], d[j][1]))\n",
    "        assert not errors, 'errors occured:\\n{}'.format('\\n'.join(errors))\n",
    "\n",
    "    def test_json(self):\n",
    "        test_cases = self.get_testcases('\\question_generator.json')\n",
    "        for i in test_cases:\n",
    "            your_answer = extract_questions(i.get('input'))\n",
    "            correct_answer = i.get('output')\n",
    "            print(\"Testing {0}: \".format(str(i['id']) ))\n",
    "            print(\"correct answer: \", correct_answer)\n",
    "            print(\"method answer: \", your_answer)\n",
    "            print(\"***********************************\")\n",
    "\n",
    "tester = BaseTest()\n",
    "tester.test_json()"
   ]
  }
 ],
 "metadata": {
  "kernelspec": {
   "display_name": "Python 3 (ipykernel)",
   "language": "python",
   "name": "python3"
  },
  "language_info": {
   "codemirror_mode": {
    "name": "ipython",
    "version": 3
   },
   "file_extension": ".py",
   "mimetype": "text/x-python",
   "name": "python",
   "nbconvert_exporter": "python",
   "pygments_lexer": "ipython3",
   "version": "3.8.3"
  }
 },
 "nbformat": 4,
 "nbformat_minor": 4
}
