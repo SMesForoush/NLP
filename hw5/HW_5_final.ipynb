{
  "cells": [
    {
      "cell_type": "markdown",
      "metadata": {
        "id": "kRkhF2-fSce1"
      },
      "source": [
        "<style>\n",
        "@font-face {font-family: \"B Nazanin\"; src: url(\"//db.onlinewebfonts.com/t/3671adca6f650c92b83f906e49656986.eot\"); src: url(\"//db.onlinewebfonts.com/t/3671adca6f650c92b83f906e49656986.eot?#iefix\") format(\"embedded-opentype\"), url(\"//db.onlinewebfonts.com/t/3671adca6f650c92b83f906e49656986.woff2\") format(\"woff2\"), url(\"//db.onlinewebfonts.com/t/3671adca6f650c92b83f906e49656986.woff\") format(\"woff\"), url(\"//db.onlinewebfonts.com/t/3671adca6f650c92b83f906e49656986.ttf\") format(\"truetype\"), url(\"//db.onlinewebfonts.com/t/3671adca6f650c92b83f906e49656986.svg#B Nazanin\") format(\"svg\"); }\n",
        "    </style>\n",
        "<div dir=\"rtl\" align=\"center\" style ='font-family: \"B Nazanin\";'>\n",
        "    <h1>\n",
        "        تمرین پنجم درس پردازش زبان‌های طبیعی\n",
        "    </h1>\n",
        "    <h3>\n",
        "        گردآورندگان:<br/>\n",
        "        ساحل مس‌فروش، سروش تابش، درنا دهقانی\n",
        "    </h3>\n",
        "    \n",
        "</div>\n",
        "\n",
        "<br/>\n",
        "<br/>\n",
        "\n",
        "\n",
        "<div dir=\"rtl\"  style ='font-family: \"B Nazanin\";'>\n",
        "    ما در این تمرین ترک \"استخراج موجودیت های نام دار فارسی بر روی دادگان خبری\" را انتخاب کردیم. در این تمرین قصد داریم به کمک داده‌های برچسب‌گذاری‌شده، موجودیت‌های نام‌دار را در یک متن خبری استخراج کنیم؛ از جمله نام افراد، مکان‌ها، تاریخ‌ها و ... . برای این کار از یک مدل از پیش‌آموزش ‌دیده‌شده با مکانیزم توجه (پارس برت آزمایشگاه هوشواره) استفاده کردیم. \n",
        "</div>\n",
        "\n",
        "\n",
        "<div dir=\"rtl\" style ='font-family: \"B Nazanin\";'>\n",
        "    <h4> پیش پردازش </h4>\n",
        "    در این بخش به کمک تابع <code>convert_to_token</code> ابتدا داده‌ی داده شده را دریافت کردیم. سپس آنها را tokenize کردیم و به هر token متناسب با موجودیت نام‌دارش برچسبی اختصاص دادیم؛ بدین صورت که اگر بخشی از موجودیت نام‌دار <code>label</code> بود، اولین token آن برچسب <code>B_label</code> و بقیه tokenهای آن موجودیت نام‌دار برچسب <code>I_label</code> می‌گیرد و اگر هیچ موجودیت نام‌داری نداشت، برچسب <code>O</code> می‌گیرد. هم‌چنین tokenهایی که UNK تشخیص داده می‌شوند را حذف کردیم.\n",
        "</div>"
      ]
    },
    {
      "cell_type": "code",
      "execution_count": 3,
      "metadata": {
        "colab": {
          "base_uri": "https://localhost:8080/"
        },
        "id": "nhnppEKPSce4",
        "outputId": "00a48e83-58bb-48f4-a632-d1fa78484f78"
      },
      "outputs": [
        {
          "output_type": "stream",
          "name": "stdout",
          "text": [
            "Looking in indexes: https://pypi.org/simple, https://us-python.pkg.dev/colab-wheels/public/simple/\n",
            "Collecting transformers\n",
            "  Downloading transformers-4.21.0-py3-none-any.whl (4.7 MB)\n",
            "\u001b[K     |████████████████████████████████| 4.7 MB 13.6 MB/s \n",
            "\u001b[?25hRequirement already satisfied: importlib-metadata in /usr/local/lib/python3.7/dist-packages (from transformers) (4.12.0)\n",
            "Requirement already satisfied: requests in /usr/local/lib/python3.7/dist-packages (from transformers) (2.23.0)\n",
            "Requirement already satisfied: numpy>=1.17 in /usr/local/lib/python3.7/dist-packages (from transformers) (1.21.6)\n",
            "Requirement already satisfied: tqdm>=4.27 in /usr/local/lib/python3.7/dist-packages (from transformers) (4.64.0)\n",
            "Requirement already satisfied: packaging>=20.0 in /usr/local/lib/python3.7/dist-packages (from transformers) (21.3)\n",
            "Requirement already satisfied: regex!=2019.12.17 in /usr/local/lib/python3.7/dist-packages (from transformers) (2022.6.2)\n",
            "Collecting tokenizers!=0.11.3,<0.13,>=0.11.1\n",
            "  Downloading tokenizers-0.12.1-cp37-cp37m-manylinux_2_12_x86_64.manylinux2010_x86_64.whl (6.6 MB)\n",
            "\u001b[K     |████████████████████████████████| 6.6 MB 44.4 MB/s \n",
            "\u001b[?25hCollecting huggingface-hub<1.0,>=0.1.0\n",
            "  Downloading huggingface_hub-0.8.1-py3-none-any.whl (101 kB)\n",
            "\u001b[K     |████████████████████████████████| 101 kB 13.1 MB/s \n",
            "\u001b[?25hRequirement already satisfied: filelock in /usr/local/lib/python3.7/dist-packages (from transformers) (3.7.1)\n",
            "Collecting pyyaml>=5.1\n",
            "  Downloading PyYAML-6.0-cp37-cp37m-manylinux_2_5_x86_64.manylinux1_x86_64.manylinux_2_12_x86_64.manylinux2010_x86_64.whl (596 kB)\n",
            "\u001b[K     |████████████████████████████████| 596 kB 55.9 MB/s \n",
            "\u001b[?25hRequirement already satisfied: typing-extensions>=3.7.4.3 in /usr/local/lib/python3.7/dist-packages (from huggingface-hub<1.0,>=0.1.0->transformers) (4.1.1)\n",
            "Requirement already satisfied: pyparsing!=3.0.5,>=2.0.2 in /usr/local/lib/python3.7/dist-packages (from packaging>=20.0->transformers) (3.0.9)\n",
            "Requirement already satisfied: zipp>=0.5 in /usr/local/lib/python3.7/dist-packages (from importlib-metadata->transformers) (3.8.1)\n",
            "Requirement already satisfied: chardet<4,>=3.0.2 in /usr/local/lib/python3.7/dist-packages (from requests->transformers) (3.0.4)\n",
            "Requirement already satisfied: urllib3!=1.25.0,!=1.25.1,<1.26,>=1.21.1 in /usr/local/lib/python3.7/dist-packages (from requests->transformers) (1.24.3)\n",
            "Requirement already satisfied: certifi>=2017.4.17 in /usr/local/lib/python3.7/dist-packages (from requests->transformers) (2022.6.15)\n",
            "Requirement already satisfied: idna<3,>=2.5 in /usr/local/lib/python3.7/dist-packages (from requests->transformers) (2.10)\n",
            "Installing collected packages: pyyaml, tokenizers, huggingface-hub, transformers\n",
            "  Attempting uninstall: pyyaml\n",
            "    Found existing installation: PyYAML 3.13\n",
            "    Uninstalling PyYAML-3.13:\n",
            "      Successfully uninstalled PyYAML-3.13\n",
            "Successfully installed huggingface-hub-0.8.1 pyyaml-6.0 tokenizers-0.12.1 transformers-4.21.0\n",
            "Looking in indexes: https://pypi.org/simple, https://us-python.pkg.dev/colab-wheels/public/simple/\n",
            "Requirement already satisfied: pandas in /usr/local/lib/python3.7/dist-packages (1.3.5)\n",
            "Requirement already satisfied: pytz>=2017.3 in /usr/local/lib/python3.7/dist-packages (from pandas) (2022.1)\n",
            "Requirement already satisfied: numpy>=1.17.3 in /usr/local/lib/python3.7/dist-packages (from pandas) (1.21.6)\n",
            "Requirement already satisfied: python-dateutil>=2.7.3 in /usr/local/lib/python3.7/dist-packages (from pandas) (2.8.2)\n",
            "Requirement already satisfied: six>=1.5 in /usr/local/lib/python3.7/dist-packages (from python-dateutil>=2.7.3->pandas) (1.15.0)\n"
          ]
        }
      ],
      "source": [
        "! pip install transformers\n",
        "! pip install pandas"
      ]
    },
    {
      "cell_type": "code",
      "execution_count": 4,
      "metadata": {
        "id": "bLuosBIBSce5"
      },
      "outputs": [],
      "source": [
        "from transformers import AutoTokenizer\n",
        "import json\n",
        "import pandas as pd"
      ]
    },
    {
      "cell_type": "code",
      "execution_count": 4,
      "metadata": {
        "id": "Ob-ZdAIqSce6"
      },
      "outputs": [],
      "source": [
        "def convert_to_token(text, annotations, tokenizer):\n",
        "    model_name = 'HooshvareLab/bert-base-parsbert-armanner-uncased'\n",
        "    result = list()\n",
        "    classified_tokens = set()\n",
        "\n",
        "    for annot in annotations:\n",
        "        ner_range = annot.get(\"range\")\n",
        "        ner_name = annot.get(\"name\")\n",
        "        ner_text = text[ner_range[0]:ner_range[1]]\n",
        "        ner_tokens = tokenizer.tokenize(ner_text)\n",
        "        for i, token in enumerate(ner_tokens):\n",
        "            if i == 0:\n",
        "                result.append({\"Token\": token, \"NER_label\": f\"B_{ner_name}\"})\n",
        "            else:\n",
        "                result.append({\"Token\": token, \"NER_label\": f\"I_{ner_name}\"})\n",
        "            classified_tokens.add(token)\n",
        "    tokenized_text = tokenizer.tokenize(text)\n",
        "    for token in tokenized_text:\n",
        "        if not token in classified_tokens:\n",
        "            result.append({\"Token\": token, \"NER_label\": f\"O\"})\n",
        "    return result\n",
        "\n",
        "\n",
        "datapath = \"dataset_annotated_splited.json\"\n",
        "tokenizer = AutoTokenizer.from_pretrained(\"HooshvareLab/bert-base-parsbert-uncased\")\n",
        "data = json.load(open(datapath))"
      ]
    },
    {
      "cell_type": "markdown",
      "metadata": {
        "id": "zyK_JqpKSce6"
      },
      "source": [
        "<div dir=\"rtl\" style ='font-family: \"B Nazanin\";'>\n",
        "    سپس تابع فوق را بر روی داده‌های train، eval و test صدا زدیم و آن را روی تیتر و متن اخبار اعمال کردیم و تا لیستی از تمامی tokenها و برچسب‌هایشان داشته باشیم و آن‌ها را در قالب csv ذخیره کردیم.\n",
        "</div>"
      ]
    },
    {
      "cell_type": "code",
      "execution_count": 10,
      "metadata": {
        "id": "WgSNiWqoSce6"
      },
      "outputs": [],
      "source": [
        "dataset_parts = ['train', 'eval', 'test']\n",
        "\n",
        "for dp in dataset_parts:\n",
        "    temp_list = []\n",
        "    length = len(data.get(dp))\n",
        "    for i in range(length):\n",
        "        parts = ['header', 'text']\n",
        "        for p in parts:\n",
        "            t = convert_to_token(data.get(dp)[i].get(p), data.get(dp)[i].get(\"annotations\")[0].get(p), tokenizer)\n",
        "            temp_list += [j for j in t if not (j['Token'] == '[UNK]')]\n",
        "    temp_df = pd.DataFrame(temp_list)\n",
        "    temp_df.to_csv(f'{dp}_labels.csv', encoding='utf-8', index=False)"
      ]
    },
    {
      "cell_type": "markdown",
      "source": [
        "<div dir=\"rtl\" style ='font-family: \"B Nazanin\";'>\n",
        "    تعداد داده‌های دارای برچسب و با برچسب <code>O</code> را در داده‌ی train مقایسه می‌کنیم. با توجه به تفاوت زیاد این تعداد، برای تناسب داده‌ی train می‌توانیم تعدادی از داده‌های با برچسب <code>O</code> را بصورت تصادفی حذف کرده، و یا تعدادی از داده‌های دارای برچسب را بصورت تصادفی تکرار کنیم.\n",
        "</div>"
      ],
      "metadata": {
        "id": "G5xcHJ2PBZDd"
      }
    },
    {
      "cell_type": "code",
      "source": [
        "train_df = pd.read_csv('train_labels.csv')\n",
        "with_label = train_df[train_df['NER_label'] != 'O']\n",
        "without_label = train_df[train_df['NER_label'] == 'O']\n",
        "\n",
        "len_with_label = len(with_label)\n",
        "len_without_label = len(without_label)\n",
        "\n",
        "print(f\"With label: {len_with_label}\")\n",
        "print(f\"Without label: {len_without_label}\")"
      ],
      "metadata": {
        "colab": {
          "base_uri": "https://localhost:8080/"
        },
        "id": "cWxYFoqkB58b",
        "outputId": "d990f96b-e19b-459b-cefc-64338fe3d792"
      },
      "execution_count": 7,
      "outputs": [
        {
          "output_type": "stream",
          "name": "stdout",
          "text": [
            "With label: 33014\n",
            "Without label: 178556\n"
          ]
        }
      ]
    },
    {
      "cell_type": "code",
      "source": [
        "mid_num = (len_without_label - len_with_label) // 2\n",
        "without_label_new = without_label.sample(n=mid_num).reset_index(drop=True)\n",
        "with_label_add = with_label.sample(n=min(mid_num, len_with_label)).reset_index(drop=True)\n",
        "new_train_df = pd.concat([without_label_new, with_label, with_label_add])\n",
        "new_train_df = new_train_df.sample(frac=1).reset_index(drop=True)\n",
        "\n",
        "print(f\"With label new: {len(new_train_df[new_train_df['NER_label'] != 'O'])}\")\n",
        "print(f\"Without label new: {len(new_train_df[new_train_df['NER_label'] == 'O'])}\")\n",
        "\n",
        "new_train_df.to_csv('balanced_train.csv', encoding='utf-8', index=False)"
      ],
      "metadata": {
        "colab": {
          "base_uri": "https://localhost:8080/"
        },
        "id": "cIzZ1a09EGxF",
        "outputId": "75e40b7f-71cd-4db2-acd2-c652f0aa2184"
      },
      "execution_count": 14,
      "outputs": [
        {
          "output_type": "stream",
          "name": "stdout",
          "text": [
            "With label new: 66028\n",
            "Without label new: 72771\n"
          ]
        }
      ]
    },
    {
      "cell_type": "markdown",
      "source": [
        "<div dir=\"rtl\" style ='font-family: \"B Nazanin\";'>\n",
        "    به منظور بهبود مدل، از داده‌های موجود در <a href='https://github.com/nasrin-taghizadeh/NSURL-Persian-NER'>این لینک</a> استفاده کردیم. بدین صورت که داده‌های موجود در بخش 300k را با هم ادغام کرده و ذخیره کردیم تا در مراحل بعد استفاده کنیم. ساختار ذخیره این داده‌ها مشابه بخش قبل است. برخی کلمات در این داده شامل چند token بودند که آنها را ادغام کردیم و در قالب یک token درآوردیم.\n",
        "</div>"
      ],
      "metadata": {
        "id": "oqjAllBJVDwe"
      }
    },
    {
      "cell_type": "code",
      "source": [
        "file_list = range(1, 710)\n",
        "\n",
        "lines = []\n",
        "for file in file_list:\n",
        "    with open(f'300K/{file}.txt', encoding='utf-8') as f:\n",
        "        file_lines = [line.rstrip().split() for line in f if line.rstrip()]\n",
        "        lines += file_lines"
      ],
      "metadata": {
        "id": "SZHmXI89V-C0"
      },
      "execution_count": null,
      "outputs": []
    },
    {
      "cell_type": "code",
      "source": [
        "for i in range(len(lines)):\n",
        "    if len(lines[i]) > 2:\n",
        "        word = ' '.join(lines[i][0:-1])\n",
        "        lines[i] = [word, lines[i][-1]]\n",
        "\n",
        "df = pd.DataFrame(lines, columns=['Token', 'NER_label'])\n",
        "df.to_csv('300k_complete.csv', encoding='utf-8', index=False)"
      ],
      "metadata": {
        "id": "egeZlB0jWaMj"
      },
      "execution_count": null,
      "outputs": []
    },
    {
      "cell_type": "markdown",
      "source": [
        "<div dir=\"rtl\" style ='font-family: \"B Nazanin\";'>\n",
        "    حال به مقایسه‌ی داده کمکی و داده train می‌پردازیم تا ببینیم چه lablel و tokenهایی در هر یک وجود دارد که در دیگری نیست.\n",
        "</div>"
      ],
      "metadata": {
        "id": "SytNxkMCHVHU"
      }
    },
    {
      "cell_type": "code",
      "source": [
        "df_300k = pd.read_csv('300k_complete.csv')\n",
        "\n",
        "print(f'train df length: {len(train_df)}')\n",
        "print(f'300k length: {len(df_300k)}')"
      ],
      "metadata": {
        "colab": {
          "base_uri": "https://localhost:8080/"
        },
        "id": "3a5TgKnjH95N",
        "outputId": "d853b1ae-176d-4261-96fc-21d51324ed70"
      },
      "execution_count": 15,
      "outputs": [
        {
          "output_type": "stream",
          "name": "stdout",
          "text": [
            "train df length: 211570\n",
            "300k length: 302528\n"
          ]
        }
      ]
    },
    {
      "cell_type": "code",
      "source": [
        "train_labels = set(train_df['NER_label'])\n",
        "df_300k_labels = set(df_300k['NER_label'])\n",
        "\n",
        "df_300k_without_extra = df_300k[df_300k['NER_label'].isin(train_labels)].reset_index(drop=True)\n",
        "\n",
        "print(f\"labels exist in 300k, but not in train: {set(df_300k[~df_300k['NER_label'].isin(train_labels)].reset_index(drop=True)['NER_label'])}\")"
      ],
      "metadata": {
        "colab": {
          "base_uri": "https://localhost:8080/"
        },
        "id": "AqfQeVRxNS__",
        "outputId": "f9bc25fc-22c1-414a-f992-502a4bf97cea"
      },
      "execution_count": 34,
      "outputs": [
        {
          "output_type": "stream",
          "name": "stdout",
          "text": [
            "labels exist in 300k, but not in train: {'I_MON', 'B_MON', 'I_PCT', 'B_PCT'}\n"
          ]
        }
      ]
    },
    {
      "cell_type": "code",
      "source": [
        "train_df_without_extra = train_df[train_df['NER_label'].isin(df_300k_labels)].reset_index(drop=True)\n",
        "\n",
        "print(f\"labels exist in train, but not in 300k: {set(train_df[~train_df['NER_label'].isin(df_300k_labels)].reset_index(drop=True)['NER_label'])}\")"
      ],
      "metadata": {
        "colab": {
          "base_uri": "https://localhost:8080/"
        },
        "id": "2Z92qkFjN4Ms",
        "outputId": "d6a196e0-65e5-4bdf-a6a1-028596121410"
      },
      "execution_count": 35,
      "outputs": [
        {
          "output_type": "stream",
          "name": "stdout",
          "text": [
            "labels exist in train, but not in 300k: {'I_NAT', 'B_EVE', 'I_EVE', 'I_mainLOC', 'B_NAT', 'B_mainLOC'}\n"
          ]
        }
      ]
    },
    {
      "cell_type": "code",
      "source": [
        "train_tokens = list(train_df['Token'])\n",
        "df_300k_tokens = list(df_300k['Token'])\n",
        "\n",
        "df_300k[~df_300k['Token'].isin(train_tokens)].reset_index(drop=True)"
      ],
      "metadata": {
        "colab": {
          "base_uri": "https://localhost:8080/",
          "height": 424
        },
        "id": "8l_RP-mbKQBj",
        "outputId": "49d524f4-c682-434d-97fb-7fd28cec464e"
      },
      "execution_count": 23,
      "outputs": [
        {
          "output_type": "execute_result",
          "data": {
            "text/plain": [
              "         Token NER_label\n",
              "0         آغاز         O\n",
              "1        آفتاب     I_LOC\n",
              "2      وفرهنگی     I_ORG\n",
              "3           11     I_ORG\n",
              "4      ثبت نام         O\n",
              "...        ...       ...\n",
              "43530       آن         O\n",
              "43531       آن         O\n",
              "43532     آقای         O\n",
              "43533  فسادهای         O\n",
              "43534   می شود         O\n",
              "\n",
              "[43535 rows x 2 columns]"
            ],
            "text/html": [
              "\n",
              "  <div id=\"df-db3fa692-1283-4a36-97c3-8f8219c94469\">\n",
              "    <div class=\"colab-df-container\">\n",
              "      <div>\n",
              "<style scoped>\n",
              "    .dataframe tbody tr th:only-of-type {\n",
              "        vertical-align: middle;\n",
              "    }\n",
              "\n",
              "    .dataframe tbody tr th {\n",
              "        vertical-align: top;\n",
              "    }\n",
              "\n",
              "    .dataframe thead th {\n",
              "        text-align: right;\n",
              "    }\n",
              "</style>\n",
              "<table border=\"1\" class=\"dataframe\">\n",
              "  <thead>\n",
              "    <tr style=\"text-align: right;\">\n",
              "      <th></th>\n",
              "      <th>Token</th>\n",
              "      <th>NER_label</th>\n",
              "    </tr>\n",
              "  </thead>\n",
              "  <tbody>\n",
              "    <tr>\n",
              "      <th>0</th>\n",
              "      <td>آغاز</td>\n",
              "      <td>O</td>\n",
              "    </tr>\n",
              "    <tr>\n",
              "      <th>1</th>\n",
              "      <td>آفتاب</td>\n",
              "      <td>I_LOC</td>\n",
              "    </tr>\n",
              "    <tr>\n",
              "      <th>2</th>\n",
              "      <td>وفرهنگی</td>\n",
              "      <td>I_ORG</td>\n",
              "    </tr>\n",
              "    <tr>\n",
              "      <th>3</th>\n",
              "      <td>11</td>\n",
              "      <td>I_ORG</td>\n",
              "    </tr>\n",
              "    <tr>\n",
              "      <th>4</th>\n",
              "      <td>ثبت نام</td>\n",
              "      <td>O</td>\n",
              "    </tr>\n",
              "    <tr>\n",
              "      <th>...</th>\n",
              "      <td>...</td>\n",
              "      <td>...</td>\n",
              "    </tr>\n",
              "    <tr>\n",
              "      <th>43530</th>\n",
              "      <td>آن</td>\n",
              "      <td>O</td>\n",
              "    </tr>\n",
              "    <tr>\n",
              "      <th>43531</th>\n",
              "      <td>آن</td>\n",
              "      <td>O</td>\n",
              "    </tr>\n",
              "    <tr>\n",
              "      <th>43532</th>\n",
              "      <td>آقای</td>\n",
              "      <td>O</td>\n",
              "    </tr>\n",
              "    <tr>\n",
              "      <th>43533</th>\n",
              "      <td>فسادهای</td>\n",
              "      <td>O</td>\n",
              "    </tr>\n",
              "    <tr>\n",
              "      <th>43534</th>\n",
              "      <td>می شود</td>\n",
              "      <td>O</td>\n",
              "    </tr>\n",
              "  </tbody>\n",
              "</table>\n",
              "<p>43535 rows × 2 columns</p>\n",
              "</div>\n",
              "      <button class=\"colab-df-convert\" onclick=\"convertToInteractive('df-db3fa692-1283-4a36-97c3-8f8219c94469')\"\n",
              "              title=\"Convert this dataframe to an interactive table.\"\n",
              "              style=\"display:none;\">\n",
              "        \n",
              "  <svg xmlns=\"http://www.w3.org/2000/svg\" height=\"24px\"viewBox=\"0 0 24 24\"\n",
              "       width=\"24px\">\n",
              "    <path d=\"M0 0h24v24H0V0z\" fill=\"none\"/>\n",
              "    <path d=\"M18.56 5.44l.94 2.06.94-2.06 2.06-.94-2.06-.94-.94-2.06-.94 2.06-2.06.94zm-11 1L8.5 8.5l.94-2.06 2.06-.94-2.06-.94L8.5 2.5l-.94 2.06-2.06.94zm10 10l.94 2.06.94-2.06 2.06-.94-2.06-.94-.94-2.06-.94 2.06-2.06.94z\"/><path d=\"M17.41 7.96l-1.37-1.37c-.4-.4-.92-.59-1.43-.59-.52 0-1.04.2-1.43.59L10.3 9.45l-7.72 7.72c-.78.78-.78 2.05 0 2.83L4 21.41c.39.39.9.59 1.41.59.51 0 1.02-.2 1.41-.59l7.78-7.78 2.81-2.81c.8-.78.8-2.07 0-2.86zM5.41 20L4 18.59l7.72-7.72 1.47 1.35L5.41 20z\"/>\n",
              "  </svg>\n",
              "      </button>\n",
              "      \n",
              "  <style>\n",
              "    .colab-df-container {\n",
              "      display:flex;\n",
              "      flex-wrap:wrap;\n",
              "      gap: 12px;\n",
              "    }\n",
              "\n",
              "    .colab-df-convert {\n",
              "      background-color: #E8F0FE;\n",
              "      border: none;\n",
              "      border-radius: 50%;\n",
              "      cursor: pointer;\n",
              "      display: none;\n",
              "      fill: #1967D2;\n",
              "      height: 32px;\n",
              "      padding: 0 0 0 0;\n",
              "      width: 32px;\n",
              "    }\n",
              "\n",
              "    .colab-df-convert:hover {\n",
              "      background-color: #E2EBFA;\n",
              "      box-shadow: 0px 1px 2px rgba(60, 64, 67, 0.3), 0px 1px 3px 1px rgba(60, 64, 67, 0.15);\n",
              "      fill: #174EA6;\n",
              "    }\n",
              "\n",
              "    [theme=dark] .colab-df-convert {\n",
              "      background-color: #3B4455;\n",
              "      fill: #D2E3FC;\n",
              "    }\n",
              "\n",
              "    [theme=dark] .colab-df-convert:hover {\n",
              "      background-color: #434B5C;\n",
              "      box-shadow: 0px 1px 3px 1px rgba(0, 0, 0, 0.15);\n",
              "      filter: drop-shadow(0px 1px 2px rgba(0, 0, 0, 0.3));\n",
              "      fill: #FFFFFF;\n",
              "    }\n",
              "  </style>\n",
              "\n",
              "      <script>\n",
              "        const buttonEl =\n",
              "          document.querySelector('#df-db3fa692-1283-4a36-97c3-8f8219c94469 button.colab-df-convert');\n",
              "        buttonEl.style.display =\n",
              "          google.colab.kernel.accessAllowed ? 'block' : 'none';\n",
              "\n",
              "        async function convertToInteractive(key) {\n",
              "          const element = document.querySelector('#df-db3fa692-1283-4a36-97c3-8f8219c94469');\n",
              "          const dataTable =\n",
              "            await google.colab.kernel.invokeFunction('convertToInteractive',\n",
              "                                                     [key], {});\n",
              "          if (!dataTable) return;\n",
              "\n",
              "          const docLinkHtml = 'Like what you see? Visit the ' +\n",
              "            '<a target=\"_blank\" href=https://colab.research.google.com/notebooks/data_table.ipynb>data table notebook</a>'\n",
              "            + ' to learn more about interactive tables.';\n",
              "          element.innerHTML = '';\n",
              "          dataTable['output_type'] = 'display_data';\n",
              "          await google.colab.output.renderOutput(dataTable, element);\n",
              "          const docLink = document.createElement('div');\n",
              "          docLink.innerHTML = docLinkHtml;\n",
              "          element.appendChild(docLink);\n",
              "        }\n",
              "      </script>\n",
              "    </div>\n",
              "  </div>\n",
              "  "
            ]
          },
          "metadata": {},
          "execution_count": 23
        }
      ]
    },
    {
      "cell_type": "code",
      "source": [
        "train_df[~train_df['Token'].isin(df_300k_tokens)].reset_index(drop=True)"
      ],
      "metadata": {
        "colab": {
          "base_uri": "https://localhost:8080/",
          "height": 424
        },
        "id": "fZd_3caeLwbq",
        "outputId": "20ba5eb4-54f9-47aa-d810-8179ef74ed1e"
      },
      "execution_count": 24,
      "outputs": [
        {
          "output_type": "execute_result",
          "data": {
            "text/plain": [
              "        Token NER_label\n",
              "0         داغ         O\n",
              "1        ارام         O\n",
              "2       سوهان     I_PER\n",
              "3         ##ی     I_PER\n",
              "4       نوذری     I_PER\n",
              "...       ...       ...\n",
              "20084  تقدیمی         O\n",
              "20085    سریک         O\n",
              "20086       ۴         O\n",
              "20087     ۵۲۶         O\n",
              "20088     ۲۵۰         O\n",
              "\n",
              "[20089 rows x 2 columns]"
            ],
            "text/html": [
              "\n",
              "  <div id=\"df-129032a3-4a1d-4197-b8b5-e9ecba7578f6\">\n",
              "    <div class=\"colab-df-container\">\n",
              "      <div>\n",
              "<style scoped>\n",
              "    .dataframe tbody tr th:only-of-type {\n",
              "        vertical-align: middle;\n",
              "    }\n",
              "\n",
              "    .dataframe tbody tr th {\n",
              "        vertical-align: top;\n",
              "    }\n",
              "\n",
              "    .dataframe thead th {\n",
              "        text-align: right;\n",
              "    }\n",
              "</style>\n",
              "<table border=\"1\" class=\"dataframe\">\n",
              "  <thead>\n",
              "    <tr style=\"text-align: right;\">\n",
              "      <th></th>\n",
              "      <th>Token</th>\n",
              "      <th>NER_label</th>\n",
              "    </tr>\n",
              "  </thead>\n",
              "  <tbody>\n",
              "    <tr>\n",
              "      <th>0</th>\n",
              "      <td>داغ</td>\n",
              "      <td>O</td>\n",
              "    </tr>\n",
              "    <tr>\n",
              "      <th>1</th>\n",
              "      <td>ارام</td>\n",
              "      <td>O</td>\n",
              "    </tr>\n",
              "    <tr>\n",
              "      <th>2</th>\n",
              "      <td>سوهان</td>\n",
              "      <td>I_PER</td>\n",
              "    </tr>\n",
              "    <tr>\n",
              "      <th>3</th>\n",
              "      <td>##ی</td>\n",
              "      <td>I_PER</td>\n",
              "    </tr>\n",
              "    <tr>\n",
              "      <th>4</th>\n",
              "      <td>نوذری</td>\n",
              "      <td>I_PER</td>\n",
              "    </tr>\n",
              "    <tr>\n",
              "      <th>...</th>\n",
              "      <td>...</td>\n",
              "      <td>...</td>\n",
              "    </tr>\n",
              "    <tr>\n",
              "      <th>20084</th>\n",
              "      <td>تقدیمی</td>\n",
              "      <td>O</td>\n",
              "    </tr>\n",
              "    <tr>\n",
              "      <th>20085</th>\n",
              "      <td>سریک</td>\n",
              "      <td>O</td>\n",
              "    </tr>\n",
              "    <tr>\n",
              "      <th>20086</th>\n",
              "      <td>۴</td>\n",
              "      <td>O</td>\n",
              "    </tr>\n",
              "    <tr>\n",
              "      <th>20087</th>\n",
              "      <td>۵۲۶</td>\n",
              "      <td>O</td>\n",
              "    </tr>\n",
              "    <tr>\n",
              "      <th>20088</th>\n",
              "      <td>۲۵۰</td>\n",
              "      <td>O</td>\n",
              "    </tr>\n",
              "  </tbody>\n",
              "</table>\n",
              "<p>20089 rows × 2 columns</p>\n",
              "</div>\n",
              "      <button class=\"colab-df-convert\" onclick=\"convertToInteractive('df-129032a3-4a1d-4197-b8b5-e9ecba7578f6')\"\n",
              "              title=\"Convert this dataframe to an interactive table.\"\n",
              "              style=\"display:none;\">\n",
              "        \n",
              "  <svg xmlns=\"http://www.w3.org/2000/svg\" height=\"24px\"viewBox=\"0 0 24 24\"\n",
              "       width=\"24px\">\n",
              "    <path d=\"M0 0h24v24H0V0z\" fill=\"none\"/>\n",
              "    <path d=\"M18.56 5.44l.94 2.06.94-2.06 2.06-.94-2.06-.94-.94-2.06-.94 2.06-2.06.94zm-11 1L8.5 8.5l.94-2.06 2.06-.94-2.06-.94L8.5 2.5l-.94 2.06-2.06.94zm10 10l.94 2.06.94-2.06 2.06-.94-2.06-.94-.94-2.06-.94 2.06-2.06.94z\"/><path d=\"M17.41 7.96l-1.37-1.37c-.4-.4-.92-.59-1.43-.59-.52 0-1.04.2-1.43.59L10.3 9.45l-7.72 7.72c-.78.78-.78 2.05 0 2.83L4 21.41c.39.39.9.59 1.41.59.51 0 1.02-.2 1.41-.59l7.78-7.78 2.81-2.81c.8-.78.8-2.07 0-2.86zM5.41 20L4 18.59l7.72-7.72 1.47 1.35L5.41 20z\"/>\n",
              "  </svg>\n",
              "      </button>\n",
              "      \n",
              "  <style>\n",
              "    .colab-df-container {\n",
              "      display:flex;\n",
              "      flex-wrap:wrap;\n",
              "      gap: 12px;\n",
              "    }\n",
              "\n",
              "    .colab-df-convert {\n",
              "      background-color: #E8F0FE;\n",
              "      border: none;\n",
              "      border-radius: 50%;\n",
              "      cursor: pointer;\n",
              "      display: none;\n",
              "      fill: #1967D2;\n",
              "      height: 32px;\n",
              "      padding: 0 0 0 0;\n",
              "      width: 32px;\n",
              "    }\n",
              "\n",
              "    .colab-df-convert:hover {\n",
              "      background-color: #E2EBFA;\n",
              "      box-shadow: 0px 1px 2px rgba(60, 64, 67, 0.3), 0px 1px 3px 1px rgba(60, 64, 67, 0.15);\n",
              "      fill: #174EA6;\n",
              "    }\n",
              "\n",
              "    [theme=dark] .colab-df-convert {\n",
              "      background-color: #3B4455;\n",
              "      fill: #D2E3FC;\n",
              "    }\n",
              "\n",
              "    [theme=dark] .colab-df-convert:hover {\n",
              "      background-color: #434B5C;\n",
              "      box-shadow: 0px 1px 3px 1px rgba(0, 0, 0, 0.15);\n",
              "      filter: drop-shadow(0px 1px 2px rgba(0, 0, 0, 0.3));\n",
              "      fill: #FFFFFF;\n",
              "    }\n",
              "  </style>\n",
              "\n",
              "      <script>\n",
              "        const buttonEl =\n",
              "          document.querySelector('#df-129032a3-4a1d-4197-b8b5-e9ecba7578f6 button.colab-df-convert');\n",
              "        buttonEl.style.display =\n",
              "          google.colab.kernel.accessAllowed ? 'block' : 'none';\n",
              "\n",
              "        async function convertToInteractive(key) {\n",
              "          const element = document.querySelector('#df-129032a3-4a1d-4197-b8b5-e9ecba7578f6');\n",
              "          const dataTable =\n",
              "            await google.colab.kernel.invokeFunction('convertToInteractive',\n",
              "                                                     [key], {});\n",
              "          if (!dataTable) return;\n",
              "\n",
              "          const docLinkHtml = 'Like what you see? Visit the ' +\n",
              "            '<a target=\"_blank\" href=https://colab.research.google.com/notebooks/data_table.ipynb>data table notebook</a>'\n",
              "            + ' to learn more about interactive tables.';\n",
              "          element.innerHTML = '';\n",
              "          dataTable['output_type'] = 'display_data';\n",
              "          await google.colab.output.renderOutput(dataTable, element);\n",
              "          const docLink = document.createElement('div');\n",
              "          docLink.innerHTML = docLinkHtml;\n",
              "          element.appendChild(docLink);\n",
              "        }\n",
              "      </script>\n",
              "    </div>\n",
              "  </div>\n",
              "  "
            ]
          },
          "metadata": {},
          "execution_count": 24
        }
      ]
    }
  ],
  "metadata": {
    "kernelspec": {
      "display_name": "Python 3 (ipykernel)",
      "language": "python",
      "name": "python3"
    },
    "language_info": {
      "codemirror_mode": {
        "name": "ipython",
        "version": 3
      },
      "file_extension": ".py",
      "mimetype": "text/x-python",
      "name": "python",
      "nbconvert_exporter": "python",
      "pygments_lexer": "ipython3",
      "version": "3.8.3"
    },
    "colab": {
      "name": "HW 5 final.ipynb",
      "provenance": [],
      "collapsed_sections": []
    }
  },
  "nbformat": 4,
  "nbformat_minor": 0
}